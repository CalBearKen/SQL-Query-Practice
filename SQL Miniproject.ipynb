{
 "cells": [
  {
   "cell_type": "code",
   "execution_count": 6,
   "metadata": {},
   "outputs": [],
   "source": [
    "def openfile(path, mode='r'):\n",
    "    fl = open(path, mode)\n",
    "    data = fl.read()\n",
    "    fl.close()\n",
    "    print(data)"
   ]
  },
  {
   "cell_type": "code",
   "execution_count": 7,
   "metadata": {
    "collapsed": true
   },
   "outputs": [
    {
     "name": "stdout",
     "output_type": "stream",
     "text": [
      "/* Welcome to the SQL mini project. For this project, you will use\n",
      "Springboard' online SQL platform, which you can log into through the\n",
      "following link:\n",
      "\n",
      "https://sql.springboard.com/\n",
      "Username: student\n",
      "Password: learn_sql@springboard\n",
      "\n",
      "The data you need is in the \"country_club\" database. This database\n",
      "contains 3 tables:\n",
      "    i) the \"Bookings\" table,\n",
      "    ii) the \"Facilities\" table, and\n",
      "    iii) the \"Members\" table.\n",
      "\n",
      "Note that, if you need to, you can also download these tables locally.\n",
      "\n",
      "In the mini project, you'll be asked a series of questions. You can\n",
      "solve them using the platform, but for the final deliverable,\n",
      "paste the code for each solution into this script, and upload it\n",
      "to your GitHub.\n",
      "\n",
      "Before starting with the questions, feel free to take your time,\n",
      "exploring the data, and getting acquainted with the 3 tables. */\n",
      "\n",
      "\n",
      "\n",
      "/* Q1: Some of the facilities charge a fee to members, but some do not.\n",
      "Please list the names of the facilities that do. */\n",
      "\n",
      "\n",
      "/* Q2: How many facilities do not charge a fee to members? */\n",
      "\n",
      "\n",
      "/* Q3: How can you produce a list of facilities that charge a fee to members,\n",
      "where the fee is less than 20% of the facility's monthly maintenance cost?\n",
      "Return the facid, facility name, member cost, and monthly maintenance of the\n",
      "facilities in question. */\n",
      "\n",
      "\n",
      "/* Q4: How can you retrieve the details of facilities with ID 1 and 5?\n",
      "Write the query without using the OR operator. */\n",
      "\n",
      "\n",
      "/* Q5: How can you produce a list of facilities, with each labelled as\n",
      "'cheap' or 'expensive', depending on if their monthly maintenance cost is\n",
      "more than $100? Return the name and monthly maintenance of the facilities\n",
      "in question. */\n",
      "\n",
      "\n",
      "/* Q6: You'd like to get the first and last name of the last member(s)\n",
      "who signed up. Do not use the LIMIT clause for your solution. */\n",
      "\n",
      "\n",
      "/* Q7: How can you produce a list of all members who have used a tennis court?\n",
      "Include in your output the name of the court, and the name of the member\n",
      "formatted as a single column. Ensure no duplicate data, and order by\n",
      "the member name. */\n",
      "\n",
      "\n",
      "/* Q8: How can you produce a list of bookings on the day of 2012-09-14 which\n",
      "will cost the member (or guest) more than $30? Remember that guests have\n",
      "different costs to members (the listed costs are per half-hour 'slot'), and\n",
      "the guest user's ID is always 0. Include in your output the name of the\n",
      "facility, the name of the member formatted as a single column, and the cost.\n",
      "Order by descending cost, and do not use any subqueries. */\n",
      "\n",
      "\n",
      "/* Q9: This time, produce the same result as in Q8, but using a subquery. */\n",
      "\n",
      "\n",
      "/* Q10: Produce a list of facilities with a total revenue less than 1000.\n",
      "The output of facility name and total revenue, sorted by revenue. Remember\n",
      "that there's a different cost for guests and members! */\n",
      "\n"
     ]
    }
   ],
   "source": [
    "instructions = openfile('sql_project.sql', 'r')\n",
    "data = openfile('country_club.sql', 'r')"
   ]
  },
  {
   "cell_type": "code",
   "execution_count": null,
   "metadata": {},
   "outputs": [],
   "source": []
  },
  {
   "cell_type": "markdown",
   "metadata": {},
   "source": [
    "/* Q1: Some of the facilities charge a fee to members, but some do not.\n",
    "Please list the names of the facilities that do. */\n",
    "\n",
    "SELECT name\n",
    "FROM Facilities\n",
    "WHERE membercost > 0"
   ]
  },
  {
   "cell_type": "markdown",
   "metadata": {},
   "source": [
    "/* Q2: How many facilities do not charge a fee to members? */\n",
    "\n",
    "SELECT COUNT(name)\n",
    "FROM Facilities\n",
    "WHERE membercost = 0"
   ]
  },
  {
   "cell_type": "markdown",
   "metadata": {},
   "source": [
    "/* Q3: How can you produce a list of facilities that charge a fee to members,\n",
    "where the fee is less than 20% of the facility's monthly maintenance cost?\n",
    "Return the facid, facility name, member cost, and monthly maintenance of the\n",
    "facilities in question. */\n",
    "\n",
    "SELECT facid, name, membercost, monthlymaintenance\n",
    "FROM Facilities\n",
    "WHERE membercost < (monthlymaintenance * .20)"
   ]
  },
  {
   "cell_type": "markdown",
   "metadata": {},
   "source": [
    "/* Q4: How can you retrieve the details of facilities with ID 1 and 5?\n",
    "Write the query without using the OR operator. */\n",
    "\n",
    "SELECT *\n",
    "FROM Facilities\n",
    "WHERE facid IN (1, 5)"
   ]
  },
  {
   "cell_type": "markdown",
   "metadata": {},
   "source": [
    "/* Q5: How can you produce a list of facilities, with each labelled as\n",
    "'cheap' or 'expensive', depending on if their monthly maintenance cost is\n",
    "more than $100? Return the name and monthly maintenance of the facilities\n",
    "in question. */\n",
    "\n",
    "SELECT Facilities.name, Facilities.monthlymaintenance,\n",
    "    CASE WHEN monthlymaintenance > 100 THEN 'expensive'\n",
    "        ELSE 'cheap' END AS expense\n",
    " FROM Facilities\n"
   ]
  },
  {
   "cell_type": "markdown",
   "metadata": {},
   "source": [
    "X/* Q6: You'd like to get the first and last name of the last member(s)\n",
    "who signed up. Do not use the LIMIT clause for your solution. */\n",
    "\n",
    "SELECT surname, firstname, CONVERT(datetime, joindate)\n",
    "FROM Members\n",
    "HAVING MAX(joindate)"
   ]
  },
  {
   "cell_type": "markdown",
   "metadata": {},
   "source": [
    "/* Q7: How can you produce a list of all members who have used a tennis court?\n",
    "Include in your output the name of the court, and the name of the member\n",
    "formatted as a single column. Ensure no duplicate data, and order by\n",
    "the member name. */\n",
    "\n",
    "SELECT Facilities.name, CONCAT(Members.firstname, ' ', Members.surname) AS memname\n",
    "FROM Bookings\n",
    "INNER JOIN Facilities ON Facilities.facid = Bookings.facid\n",
    "INNER JOIN Members ON Members.memid = Bookings.memid"
   ]
  },
  {
   "cell_type": "markdown",
   "metadata": {},
   "source": [
    "X/* Q8: How can you produce a list of bookings on the day of 2012-09-14 which\n",
    "will cost the member (or guest) more than $30? Remember that guests have\n",
    "different costs to members (the listed costs are per half-hour 'slot'), and\n",
    "the guest user's ID is always 0. Include in your output the name of the\n",
    "facility, the name of the member formatted as a single column, and the cost.\n",
    "Order by descending cost, and do not use any subqueries. */\n",
    "\n",
    "SELECT *,\n",
    "    CASE WHEN Bookings.memid = 0 THEN (Facilities.guestcost * Bookings.slots)\n",
    "        ELSE (membercost * Bookings.slots)\n",
    "        END AS cost\n",
    "FROM Bookings\n",
    "INNER JOIN Facilities ON Facilities.facid = Bookings.facid\n",
    "INNER JOIN Members ON Members.memid = Bookings.memid\n",
    "WHERE (Bookings.starttime LIKE '2012-09-14%') AND CASE WHEN \n",
    "    Bookings.memid = 0 THEN (Facilities.guestcost * Bookings.slots) > 30\n",
    "    ELSE (Facilities.membercost * Bookings.slots) > 30\n",
    "ORDER BY DESC cost\n",
    "\n",
    "((Facilities.membercost * Bookings.slots) > 30 OR (Facilities.guestcost * Bookings.slots) > 30)\n",
    "Facilities.name, CONCAT(Members.firstname, ' ', Members.surname) AS memname, "
   ]
  },
  {
   "cell_type": "markdown",
   "metadata": {},
   "source": [
    "X/* Q9: This time, produce the same result as in Q8, but using a subquery. */"
   ]
  },
  {
   "cell_type": "markdown",
   "metadata": {},
   "source": [
    "X/* Q10: Produce a list of facilities with a total revenue less than 1000.\n",
    "The output of facility name and total revenue, sorted by revenue. Remember\n",
    "that there's a different cost for guests and members! */\n",
    "\n",
    "SELECT Facilities.name, \n"
   ]
  }
 ],
 "metadata": {
  "kernelspec": {
   "display_name": "Python 3",
   "language": "python",
   "name": "python3"
  },
  "language_info": {
   "codemirror_mode": {
    "name": "ipython",
    "version": 3
   },
   "file_extension": ".py",
   "mimetype": "text/x-python",
   "name": "python",
   "nbconvert_exporter": "python",
   "pygments_lexer": "ipython3",
   "version": "3.7.1"
  }
 },
 "nbformat": 4,
 "nbformat_minor": 2
}
